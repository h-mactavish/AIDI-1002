{
 "cells": [
  {
   "cell_type": "code",
   "execution_count": 31,
   "metadata": {},
   "outputs": [
    {
     "name": "stdout",
     "output_type": "stream",
     "text": [
      "*        *\n",
      "**      **\n",
      "* *    * *\n",
      "*  *  *  *\n",
      "*   **   *\n",
      "*   **   *\n",
      "*  *  *  *\n",
      "* *    * *\n",
      "**      **\n",
      "*        *\n"
     ]
    }
   ],
   "source": []
  },
  {
   "cell_type": "code",
   "execution_count": null,
   "metadata": {},
   "outputs": [],
   "source": [
    "def pattern_print(n,pattern):\n",
    "    for i in range(n+1):\n",
    "        if i==9:\n",
    "            continue\n",
    "        for j in range(n):\n",
    "            if i==j or i+j ==n-1 or i==n-1 or j==0 or j==n-1:\n",
    "                print(elem,end=\"\")\n",
    "            else:\n",
    "                print(\" \",\n",
    "                end=\"\")\n",
    "        print()"
   ]
  },
  {
   "cell_type": "code",
   "execution_count": null,
   "metadata": {},
   "outputs": [],
   "source": [
    "n=10\n",
    "elem=\"*\"\n",
    "\n",
    "\n",
    "pattern_print(n,elem)"
   ]
  },
  {
   "cell_type": "code",
   "execution_count": null,
   "metadata": {},
   "outputs": [],
   "source": [
    "class Car:\n",
    "    list_of_owners=[]\n",
    "    def __init__(self,year,mpg,speed):\n",
    "        self.year=year\n",
    "        self.mpg=mpg\n",
    "        self.speed=speed\n",
    "\n",
    "    def accelerate(self):\n",
    "        self.speed+=30\n",
    "\n",
    "    def brake(self):\n",
    "        self.speed-=60 \n",
    "\n",
    "    def __str__(self):\n",
    "        return f'Car({self.year},{self.mpg},{self.speed},{self.list_of_owners})'\n"
   ]
  }
 ],
 "metadata": {
  "kernelspec": {
   "display_name": "Python 3.10.6 64-bit",
   "language": "python",
   "name": "python3"
  },
  "language_info": {
   "codemirror_mode": {
    "name": "ipython",
    "version": 3
   },
   "file_extension": ".py",
   "mimetype": "text/x-python",
   "name": "python",
   "nbconvert_exporter": "python",
   "pygments_lexer": "ipython3",
   "version": "3.10.6"
  },
  "orig_nbformat": 4,
  "vscode": {
   "interpreter": {
    "hash": "26de051ba29f2982a8de78e945f0abaf191376122a1563185a90213a26c5da77"
   }
  }
 },
 "nbformat": 4,
 "nbformat_minor": 2
}
